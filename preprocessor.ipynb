{
 "cells": [
  {
   "cell_type": "code",
   "execution_count": 1,
   "metadata": {},
   "outputs": [],
   "source": [
    "import datetime\n",
    "import numpy as np\n",
    "import matplotlib.pyplot as plt\n",
    "import matplotlib.dates as mdates\n",
    "\n",
    "years = mdates.YearLocator()   # every year\n",
    "months = mdates.MonthLocator()  # every month\n",
    "yearsFmt = mdates.DateFormatter('%Y')\n",
    "\n",
    "\n",
    "def calc_mdd(list_x, list_pv):\n",
    "    \"\"\"\n",
    "    MDD(Maximum Draw-Down) 계산\n",
    "    :param list_pv: 포트폴리오 가치 리스트\n",
    "    :return:\n",
    "    \"\"\"\n",
    "    list_x = [datetime.datetime.strptime(date, '%Y-%m-%d').date() for date in list_x]\n",
    "    arr_pv = np.array(list_pv)\n",
    "    peak_lower = np.argmax(np.maximum.accumulate(arr_pv) - arr_pv)\n",
    "    peak_upper = np.argmax(arr_pv[:peak_lower])\n",
    "    \n",
    "    idx_min = np.argmin(arr_pv)\n",
    "    idx_max = np.argmax(arr_pv)\n",
    "\n",
    "    # ------------------------------\n",
    "    fig, ax = plt.subplots()\n",
    "    ax.plot(list_x, arr_pv, color='gray')\n",
    "#     ax.plot([list_x[peak_upper]], [arr_pv[peak_upper]], '>', color='red')\n",
    "#     ax.plot([list_x[peak_lower]], [arr_pv[peak_lower]], '<', color='blue')\n",
    "    ax.plot([list_x[peak_upper], list_x[peak_lower]], [arr_pv[peak_upper], arr_pv[peak_lower]], '-', color='blue')\n",
    "    ax.plot([list_x[idx_min]], [arr_pv[idx_min]], 'v', color='blue')\n",
    "    ax.plot([list_x[idx_max]], [arr_pv[idx_max]], '^', color='red')\n",
    "    \n",
    "    ax.xaxis.set_major_locator(years)\n",
    "    ax.xaxis.set_major_formatter(yearsFmt)\n",
    "    ax.xaxis.set_minor_locator(months)  \n",
    "    \n",
    "    plt.show()\n",
    "    # ------------------------------\n",
    "\n",
    "    return (arr_pv[peak_lower] - arr_pv[peak_upper]) / arr_pv[peak_upper]\n"
   ]
  },
  {
   "cell_type": "code",
   "execution_count": 2,
   "metadata": {},
   "outputs": [
    {
     "ename": "ModuleNotFoundError",
     "evalue": "No module named 'pandas'",
     "output_type": "error",
     "traceback": [
      "\u001b[0;31m---------------------------------------------------------------------------\u001b[0m",
      "\u001b[0;31mModuleNotFoundError\u001b[0m                       Traceback (most recent call last)",
      "\u001b[0;32m<ipython-input-2-47b2c7aa84db>\u001b[0m in \u001b[0;36m<module>\u001b[0;34m\u001b[0m\n\u001b[1;32m      1\u001b[0m \u001b[0;32mimport\u001b[0m \u001b[0msys\u001b[0m\u001b[0;34m\u001b[0m\u001b[0;34m\u001b[0m\u001b[0m\n\u001b[1;32m      2\u001b[0m \u001b[0;32mimport\u001b[0m \u001b[0mos\u001b[0m\u001b[0;34m\u001b[0m\u001b[0;34m\u001b[0m\u001b[0m\n\u001b[0;32m----> 3\u001b[0;31m \u001b[0;32mimport\u001b[0m \u001b[0mpandas\u001b[0m \u001b[0;32mas\u001b[0m \u001b[0mpd\u001b[0m\u001b[0;34m\u001b[0m\u001b[0;34m\u001b[0m\u001b[0m\n\u001b[0m\u001b[1;32m      4\u001b[0m \u001b[0msys\u001b[0m\u001b[0;34m.\u001b[0m\u001b[0mpath\u001b[0m\u001b[0;34m.\u001b[0m\u001b[0mappend\u001b[0m\u001b[0;34m(\u001b[0m\u001b[0mos\u001b[0m\u001b[0;34m.\u001b[0m\u001b[0mpath\u001b[0m\u001b[0;34m.\u001b[0m\u001b[0mdirname\u001b[0m\u001b[0;34m(\u001b[0m\u001b[0mos\u001b[0m\u001b[0;34m.\u001b[0m\u001b[0mgetcwd\u001b[0m\u001b[0;34m(\u001b[0m\u001b[0;34m)\u001b[0m\u001b[0;34m)\u001b[0m\u001b[0;34m)\u001b[0m\u001b[0;34m\u001b[0m\u001b[0;34m\u001b[0m\u001b[0m\n",
      "\u001b[0;31mModuleNotFoundError\u001b[0m: No module named 'pandas'"
     ]
    }
   ],
   "source": [
    "import sys\n",
    "import os\n",
    "import pandas as pd\n",
    "sys.path.append(os.path.dirname(os.getcwd()))"
   ]
  },
  {
   "cell_type": "code",
   "execution_count": null,
   "metadata": {},
   "outputs": [],
   "source": [
    "import data_manager"
   ]
  },
  {
   "cell_type": "code",
   "execution_count": null,
   "metadata": {},
   "outputs": [],
   "source": [
    "# code = '005930'  # 삼성전자\n",
    "# code = '000660'  # SK하이닉스\n",
    "# code = '005380'  # 현대차\n",
    "# code = '051910'  # LG화학\n",
    "# code = '035420'  # NAVER\n",
    "code = '030200'  # KT"
   ]
  },
  {
   "cell_type": "code",
   "execution_count": null,
   "metadata": {
    "scrolled": false
   },
   "outputs": [],
   "source": [
    "chart_data = data_manager.load_chart_data('chart_data/{}.csv'.format(code))\n",
    "chart_data = chart_data[chart_data['date'] <= '2016-12-31']\n",
    "chart_data.tail()"
   ]
  },
  {
   "cell_type": "code",
   "execution_count": null,
   "metadata": {
    "scrolled": true
   },
   "outputs": [],
   "source": [
    "_chart_data = chart_data[(chart_data['date'] >= '2016-01-01') & (chart_data['date'] <= '2016-12-31')]\n",
    "print(_chart_data['close'].max())\n",
    "print(_chart_data['close'].min())\n",
    "print(calc_mdd(_chart_data['date'], _chart_data['close']))"
   ]
  },
  {
   "cell_type": "code",
   "execution_count": null,
   "metadata": {},
   "outputs": [],
   "source": [
    "chart_data.tail()"
   ]
  },
  {
   "cell_type": "code",
   "execution_count": null,
   "metadata": {},
   "outputs": [],
   "source": [
    "preprocessed_chart_data = data_manager.preprocess(chart_data)\n",
    "preprocessed_chart_data[['close_ma5', 'volume_ma5', 'close_ma10', 'volume_ma10', 'close_ma20', 'volume_ma20', 'close_ma60', 'volume_ma60', 'close_ma120', 'volume_ma120']].tail()"
   ]
  },
  {
   "cell_type": "code",
   "execution_count": null,
   "metadata": {
    "scrolled": true
   },
   "outputs": [],
   "source": [
    "pd.set_option('display.max_columns', 500)\n",
    "training_data = data_manager.build_training_data(preprocessed_chart_data)\n",
    "training_data[['open_lastclose_ratio', 'high_close_ratio', 'low_close_ratio', 'close_lastclose_ratio', 'volume_lastvolume_ratio']].tail()"
   ]
  },
  {
   "cell_type": "code",
   "execution_count": null,
   "metadata": {
    "scrolled": true
   },
   "outputs": [],
   "source": [
    "training_data[['close_ma5_ratio', 'volume_ma5_ratio', 'close_ma10_ratio', 'volume_ma10_ratio', 'close_ma20_ratio', 'volume_ma20_ratio']].tail()"
   ]
  },
  {
   "cell_type": "code",
   "execution_count": null,
   "metadata": {},
   "outputs": [],
   "source": [
    "training_data[['close_ma60_ratio', 'volume_ma60_ratio', 'close_ma120_ratio', 'volume_ma120_ratio']].tail()"
   ]
  },
  {
   "cell_type": "code",
   "execution_count": null,
   "metadata": {},
   "outputs": [],
   "source": [
    "len(training_data[(training_data['date'] >= '2017-01-01') & (training_data['date'] <= '2017-12-31')])"
   ]
  },
  {
   "cell_type": "code",
   "execution_count": null,
   "metadata": {},
   "outputs": [],
   "source": []
  }
 ],
 "metadata": {
  "kernelspec": {
   "display_name": "Python 3",
   "language": "python",
   "name": "python3"
  },
  "language_info": {
   "codemirror_mode": {
    "name": "ipython",
    "version": 3
   },
   "file_extension": ".py",
   "mimetype": "text/x-python",
   "name": "python",
   "nbconvert_exporter": "python",
   "pygments_lexer": "ipython3",
   "version": "3.7.4"
  }
 },
 "nbformat": 4,
 "nbformat_minor": 2
}
